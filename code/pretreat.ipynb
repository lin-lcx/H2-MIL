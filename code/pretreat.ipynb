{
 "cells": [
  {
   "cell_type": "code",
   "execution_count": 1,
   "metadata": {},
   "outputs": [],
   "source": [
    "import torch\n",
    "import torch.nn as nn\n",
    "import numpy as np\n",
    "import joblib\n",
    "from torch_geometric.data import Data"
   ]
  },
  {
   "cell_type": "code",
   "execution_count": 2,
   "metadata": {},
   "outputs": [],
   "source": [
    "patient_and_stage = joblib.load(\"esca_patients_and_stage.pkl\")"
   ]
  },
  {
   "cell_type": "code",
   "execution_count": 3,
   "metadata": {},
   "outputs": [
    {
     "data": {
      "text/plain": [
       "135"
      ]
     },
     "execution_count": 3,
     "metadata": {},
     "output_type": "execute_result"
    }
   ],
   "source": [
    "len(patient_and_stage)"
   ]
  },
  {
   "cell_type": "code",
   "execution_count": 26,
   "metadata": {},
   "outputs": [
    {
     "data": {
      "text/plain": [
       "'Stage IIA'"
      ]
     },
     "execution_count": 26,
     "metadata": {},
     "output_type": "execute_result"
    }
   ],
   "source": [
    "patient_and_stage['TCGA-LN-A4MR']"
   ]
  },
  {
   "cell_type": "code",
   "execution_count": 5,
   "metadata": {},
   "outputs": [
    {
     "name": "stdout",
     "output_type": "stream",
     "text": [
      "{'Stage IIIB', 'Stage IIIC', 'Stage IIA', 'Stage IV', 'Stage IB', 'Stage IVA', 'Stage III', 'Stage I', 'Stage IIB', 'Stage IA', 'Stage II', 'Stage IIIA'}\n"
     ]
    }
   ],
   "source": [
    "tmp_stage = []\n",
    "for x in patient_and_stage:\n",
    "    tmp_stage.append(patient_and_stage[x])\n",
    "print(set(tmp_stage))"
   ]
  },
  {
   "cell_type": "code",
   "execution_count": 6,
   "metadata": {},
   "outputs": [],
   "source": [
    "patient_and_label = {}\n",
    "for x in patient_and_stage:\n",
    "    if patient_and_stage[x] in ['Stage III', 'Stage IIIB', 'Stage IIIC', 'Stage IV', 'Stage IVA', 'Stage IIIA']:\n",
    "        patient_and_label[x] = 1\n",
    "    elif patient_and_stage[x] in [ 'Stage IIB', 'Stage IA', 'Stage IB', 'Stage II', 'Stage I', 'Stage IIA']:\n",
    "        patient_and_label[x] = 0"
   ]
  },
  {
   "cell_type": "code",
   "execution_count": 27,
   "metadata": {},
   "outputs": [
    {
     "data": {
      "text/plain": [
       "0"
      ]
     },
     "execution_count": 27,
     "metadata": {},
     "output_type": "execute_result"
    }
   ],
   "source": [
    "patient_and_label['TCGA-LN-A4MR']"
   ]
  },
  {
   "cell_type": "code",
   "execution_count": 8,
   "metadata": {},
   "outputs": [],
   "source": [
    "patients = []\n",
    "for x in patient_and_label:\n",
    "    patients.append(x)"
   ]
  },
  {
   "cell_type": "code",
   "execution_count": 9,
   "metadata": {},
   "outputs": [],
   "source": [
    "no_sort_t_all_feature = joblib.load(\"esca_5x10x_kimianet_patch.pkl\")"
   ]
  },
  {
   "cell_type": "code",
   "execution_count": 28,
   "metadata": {},
   "outputs": [
    {
     "data": {
      "text/plain": [
       "array([ 0.11480963,  0.15030876,  0.15438452, ..., -0.3086485 ,\n",
       "        2.0952566 ,  1.0193117 ], dtype=float32)"
      ]
     },
     "execution_count": 28,
     "metadata": {},
     "output_type": "execute_result"
    }
   ],
   "source": [
    "#pretrain feature\n",
    "no_sort_t_all_feature['TCGA-LN-A4MR']['30-26.png']"
   ]
  },
  {
   "cell_type": "code",
   "execution_count": 11,
   "metadata": {},
   "outputs": [],
   "source": [
    "t_all_feature = {}\n",
    "for x in patients:\n",
    "    feature = {}\n",
    "    for z in no_sort_t_all_feature[x]:\n",
    "        if z == '-1':\n",
    "            feature[z] = no_sort_t_all_feature[x][z]\n",
    "            \n",
    "    for z in no_sort_t_all_feature[x]:            \n",
    "        if len(z.split('-')) == 6:\n",
    "            feature[z] = no_sort_t_all_feature[x][z]\n",
    "        \n",
    "    for z in no_sort_t_all_feature[x]:            \n",
    "        if len(z.split('-')) == 2 and z != '-1':\n",
    "            feature[z] = no_sort_t_all_feature[x][z]\n",
    "        \n",
    "    t_all_feature[x] = feature\n"
   ]
  },
  {
   "cell_type": "code",
   "execution_count": 34,
   "metadata": {},
   "outputs": [
    {
     "data": {
      "text/plain": [
       "array([ 0.03040453,  0.26700664,  0.07548372, ..., -0.4094244 ,\n",
       "        0.886226  ,  1.8047752 ], dtype=float32)"
      ]
     },
     "execution_count": 34,
     "metadata": {},
     "output_type": "execute_result"
    }
   ],
   "source": [
    "\"\"\"\n",
    "Thumbnail:\"-1\"\n",
    "5x:\"x1-x2-y1-y2-x-y\",x/y are the coordinates of the 5x node, and x1/x2/y1/y2 are the coordinates of the corresponding 10x node\n",
    "10x:\"x-y\"\n",
    "\"\"\"\n",
    "t_all_feature['TCGA-LN-A4MR']['-1']"
   ]
  },
  {
   "cell_type": "code",
   "execution_count": 32,
   "metadata": {},
   "outputs": [
    {
     "data": {
      "text/plain": [
       "array([0.06940576, 0.23001698, 0.16695607, ..., 0.5770061 , 2.1174974 ,\n",
       "       0.1034441 ], dtype=float32)"
      ]
     },
     "execution_count": 32,
     "metadata": {},
     "output_type": "execute_result"
    }
   ],
   "source": [
    "t_all_feature['TCGA-LN-A4MR']['34-35-28-29-17-14.png']"
   ]
  },
  {
   "cell_type": "code",
   "execution_count": 33,
   "metadata": {},
   "outputs": [
    {
     "data": {
      "text/plain": [
       "array([ 0.10520199,  0.12185413,  0.2064581 , ..., -1.242542  ,\n",
       "        1.4516828 ,  0.48982158], dtype=float32)"
      ]
     },
     "execution_count": 33,
     "metadata": {},
     "output_type": "execute_result"
    }
   ],
   "source": [
    "t_all_feature['TCGA-LN-A4MR']['24-23.png']"
   ]
  },
  {
   "cell_type": "code",
   "execution_count": 13,
   "metadata": {},
   "outputs": [],
   "source": [
    "all_feature = {}\n",
    "for x in patients:\n",
    "    feature = []\n",
    "    for z in t_all_feature[x]:\n",
    "        if z == '-1':\n",
    "            feature.append(t_all_feature[x][z])\n",
    "    for z in t_all_feature[x]:            \n",
    "        if len(z.split('-')) == 6:\n",
    "            feature.append(t_all_feature[x][z])\n",
    "    for z in t_all_feature[x]:            \n",
    "        if len(z.split('-')) == 2 and z != '-1':\n",
    "            feature.append(t_all_feature[x][z])\n",
    "        \n",
    "    all_feature[x] = feature\n"
   ]
  },
  {
   "cell_type": "code",
   "execution_count": 35,
   "metadata": {},
   "outputs": [
    {
     "data": {
      "text/plain": [
       "[array([ 0.03040453,  0.26700664,  0.07548372, ..., -0.4094244 ,\n",
       "         0.886226  ,  1.8047752 ], dtype=float32),\n",
       " array([0.06940576, 0.23001698, 0.16695607, ..., 0.5770061 , 2.1174974 ,\n",
       "        0.1034441 ], dtype=float32),\n",
       " array([ 0.08397469,  0.17341468, -0.10069387, ...,  0.6422272 ,\n",
       "         2.5842233 , -1.0786229 ], dtype=float32),\n",
       " array([ 0.06828591,  0.23206148,  0.12968677, ...,  1.4263378 ,\n",
       "         1.6484534 , -0.05423415], dtype=float32),\n",
       " array([ 0.09137766,  0.14499718,  0.04132989, ...,  0.58380806,\n",
       "         0.5065441 , -1.2403352 ], dtype=float32)]"
      ]
     },
     "execution_count": 35,
     "metadata": {},
     "output_type": "execute_result"
    }
   ],
   "source": [
    "all_feature['TCGA-LN-A4MR'][:5]"
   ]
  },
  {
   "cell_type": "code",
   "execution_count": 15,
   "metadata": {},
   "outputs": [],
   "source": [
    "\n",
    "def get_edge_index_2(id):  \n",
    "    \n",
    "    start = []\n",
    "    end = []\n",
    "    \n",
    "    patch_id = {}\n",
    "    i=0\n",
    "    for x in t_all_feature[id]:\n",
    "        patch_id[x.split('.')[0]] = i\n",
    "        i+=1\n",
    "#     print(patch_id)\n",
    "\n",
    "    # Edges between nodes of different resolutions\n",
    "    for x in patch_id:\n",
    "        if len(x.split('-'))==6:\n",
    "            start.append(patch_id[x])\n",
    "            end.append(patch_id['-1'])\n",
    "            end.append(patch_id[x])\n",
    "            start.append(patch_id['-1']) \n",
    "            \n",
    "            if x.split('-')[0]+'-'+x.split('-')[2] in patch_id:\n",
    "                start.append(patch_id[x])\n",
    "                end.append(patch_id[x.split('-')[0]+'-'+x.split('-')[2]])\n",
    "                end.append(patch_id[x])\n",
    "                start.append(patch_id[x.split('-')[0]+'-'+x.split('-')[2]])                \n",
    "            if x.split('-')[1]+'-'+x.split('-')[2] in patch_id:                \n",
    "                start.append(patch_id[x])\n",
    "                end.append(patch_id[x.split('-')[1]+'-'+x.split('-')[2]]) \n",
    "                end.append(patch_id[x])\n",
    "                start.append(patch_id[x.split('-')[1]+'-'+x.split('-')[2]])             \n",
    "            if x.split('-')[0]+'-'+x.split('-')[3] in patch_id:            \n",
    "                start.append(patch_id[x])\n",
    "                end.append(patch_id[x.split('-')[0]+'-'+x.split('-')[3]])\n",
    "                end.append(patch_id[x])\n",
    "                start.append(patch_id[x.split('-')[0]+'-'+x.split('-')[3]])            \n",
    "            if x.split('-')[1]+'-'+x.split('-')[3] in patch_id:            \n",
    "                start.append(patch_id[x])\n",
    "                end.append(patch_id[x.split('-')[1]+'-'+x.split('-')[3]])\n",
    "                end.append(patch_id[x])\n",
    "                start.append(patch_id[x.split('-')[1]+'-'+x.split('-')[3]]) \n",
    "\n",
    "\n",
    "        \n",
    "    patch_id_5x = {}\n",
    "    for x in patch_id:\n",
    "        if len(x.split('-'))==6:\n",
    "            patch_id_5x[x.split('-')[-2]+'-'+x.split('-')[-1]] = patch_id[x]\n",
    "#     print(patch_id_5x)\n",
    "\n",
    "    #5x resolution edge between nodes\n",
    "    for x in patch_id:\n",
    "        if len(x.split('-'))==6:\n",
    "            i = int(x.split('-')[-2])\n",
    "            j = int(x.split('-')[-1])\n",
    "#             print(i,j)\n",
    "            if str(i)+'-'+str(j+1) in patch_id_5x:\n",
    "                start.append(patch_id_5x[str(i)+'-'+str(j)])\n",
    "                end.append(patch_id_5x[str(i)+'-'+str(j+1)])\n",
    "            if str(i)+'-'+str(j-1) in patch_id_5x:\n",
    "                start.append(patch_id_5x[str(i)+'-'+str(j)])\n",
    "                end.append(patch_id_5x[str(i)+'-'+str(j-1)])\n",
    "            if str(i+1)+'-'+str(j) in patch_id_5x:\n",
    "                start.append(patch_id_5x[str(i)+'-'+str(j)])\n",
    "                end.append(patch_id_5x[str(i+1)+'-'+str(j)])\n",
    "            if str(i-1)+'-'+str(j) in patch_id_5x:\n",
    "                start.append(patch_id_5x[str(i)+'-'+str(j)])\n",
    "                end.append(patch_id_5x[str(i-1)+'-'+str(j)])\n",
    "            if str(i+1)+'-'+str(j+1) in patch_id_5x:\n",
    "                start.append(patch_id_5x[str(i)+'-'+str(j)])\n",
    "                end.append(patch_id_5x[str(i+1)+'-'+str(j+1)])\n",
    "            if str(i-1)+'-'+str(j+1) in patch_id_5x:\n",
    "                start.append(patch_id_5x[str(i)+'-'+str(j)])\n",
    "                end.append(patch_id_5x[str(i-1)+'-'+str(j+1)])\n",
    "            if str(i+1)+'-'+str(j-1) in patch_id_5x:\n",
    "                start.append(patch_id_5x[str(i)+'-'+str(j)])\n",
    "                end.append(patch_id_5x[str(i+1)+'-'+str(j-1)])\n",
    "            if str(i-1)+'-'+str(j-1) in patch_id_5x:\n",
    "                start.append(patch_id_5x[str(i)+'-'+str(j)])\n",
    "                end.append(patch_id_5x[str(i-1)+'-'+str(j-1)])\n",
    "                \n",
    "    #10x resolution edge between nodes\n",
    "    for x in patch_id:\n",
    "        if len(x.split('-'))==2 and x!='-1':\n",
    "#             print(x)\n",
    "            i = int(x.split('-')[0])\n",
    "            j = int(x.split('-')[1])\n",
    "#             print(i,j)\n",
    "            if str(i)+'-'+str(j+1) in patch_id:\n",
    "                start.append(patch_id[str(i)+'-'+str(j)])\n",
    "                end.append(patch_id[str(i)+'-'+str(j+1)])\n",
    "            if str(i)+'-'+str(j-1) in patch_id:\n",
    "                start.append(patch_id[str(i)+'-'+str(j)])\n",
    "                end.append(patch_id[str(i)+'-'+str(j-1)])\n",
    "            if str(i+1)+'-'+str(j) in patch_id:\n",
    "                start.append(patch_id[str(i)+'-'+str(j)])\n",
    "                end.append(patch_id[str(i+1)+'-'+str(j)])\n",
    "            if str(i-1)+'-'+str(j) in patch_id:\n",
    "                start.append(patch_id[str(i)+'-'+str(j)])\n",
    "                end.append(patch_id[str(i-1)+'-'+str(j)])\n",
    "            if str(i+1)+'-'+str(j+1) in patch_id:\n",
    "                start.append(patch_id[str(i)+'-'+str(j)])\n",
    "                end.append(patch_id[str(i+1)+'-'+str(j+1)])\n",
    "            if str(i-1)+'-'+str(j+1) in patch_id:\n",
    "                start.append(patch_id[str(i)+'-'+str(j)])\n",
    "                end.append(patch_id[str(i-1)+'-'+str(j+1)])\n",
    "            if str(i+1)+'-'+str(j-1) in patch_id:\n",
    "                start.append(patch_id[str(i)+'-'+str(j)])\n",
    "                end.append(patch_id[str(i+1)+'-'+str(j-1)])\n",
    "            if str(i-1)+'-'+str(j-1) in patch_id:\n",
    "                start.append(patch_id[str(i)+'-'+str(j)])\n",
    "                end.append(patch_id[str(i-1)+'-'+str(j-1)])               \n",
    "                \n",
    "                  \n",
    "    \n",
    "#     print(start)\n",
    "#     print(end)\n",
    "    return [start,end]  "
   ]
  },
  {
   "cell_type": "code",
   "execution_count": 16,
   "metadata": {},
   "outputs": [
    {
     "data": {
      "text/plain": [
       "([1, 0, 1, 300, 1, 261, 2, 0, 2, 364, 2, 292, 2, 557, 2, 201, 3, 0, 3, 137],\n",
       " [0, 1, 300, 1, 261, 1, 0, 2, 364, 2, 292, 2, 557, 2, 201, 2, 0, 3, 137, 3])"
      ]
     },
     "execution_count": 16,
     "metadata": {},
     "output_type": "execute_result"
    }
   ],
   "source": [
    "get_edge_index_2('TCGA-LN-A4MR')[0][:20],get_edge_index_2('TCGA-LN-A4MR')[1][:20]"
   ]
  },
  {
   "cell_type": "code",
   "execution_count": 17,
   "metadata": {},
   "outputs": [],
   "source": [
    "all_node_type = {}\n",
    "for x in patients:\n",
    "    t = []   \n",
    "    for z in t_all_feature[x]:\n",
    "        if z == '-1':\n",
    "            t.append(0)\n",
    "    for z in t_all_feature[x]:            \n",
    "        if len(z.split('-')) == 6:\n",
    "            t.append(1)\n",
    "    for z in t_all_feature[x]:            \n",
    "        if len(z.split('-')) == 2 and z != '-1':\n",
    "            t.append(2)        \n",
    "      \n",
    "    all_node_type[x] = t"
   ]
  },
  {
   "cell_type": "code",
   "execution_count": 36,
   "metadata": {},
   "outputs": [
    {
     "data": {
      "text/plain": [
       "array([0, 1, 1, 1, 1, 1, 1, 1, 1, 1, 1, 1, 1, 1, 1, 1, 1, 1, 1, 1, 1, 1,\n",
       "       1, 1, 1, 1, 1, 1, 1, 1, 1, 1, 1, 1, 1, 1, 1, 1, 1, 1, 1, 1, 1, 1,\n",
       "       1, 1, 1, 1, 1, 1, 1, 1, 1, 1, 1, 1, 1, 1, 1, 1, 1, 1, 1, 1, 1, 1,\n",
       "       1, 1, 1, 1, 1, 1, 1, 1, 1, 1, 1, 1, 1, 1, 1, 1, 1, 1, 1, 1, 1, 1,\n",
       "       1, 1, 1, 1, 1, 1, 1, 1, 1, 1, 1, 1, 1, 1, 1, 1, 1, 1, 1, 1, 1, 1,\n",
       "       1, 1, 1, 1, 1, 1, 1, 1, 1, 1, 1, 1, 1, 1, 1, 1, 1, 1, 1, 1, 1, 1,\n",
       "       2, 2, 2, 2, 2, 2, 2, 2, 2, 2, 2, 2, 2, 2, 2, 2, 2, 2, 2, 2, 2, 2,\n",
       "       2, 2, 2, 2, 2, 2, 2, 2, 2, 2, 2, 2, 2, 2, 2, 2, 2, 2, 2, 2, 2, 2,\n",
       "       2, 2, 2, 2, 2, 2, 2, 2, 2, 2, 2, 2, 2, 2, 2, 2, 2, 2, 2, 2, 2, 2,\n",
       "       2, 2, 2, 2, 2, 2, 2, 2, 2, 2, 2, 2, 2, 2, 2, 2, 2, 2, 2, 2, 2, 2,\n",
       "       2, 2, 2, 2, 2, 2, 2, 2, 2, 2, 2, 2, 2, 2, 2, 2, 2, 2, 2, 2, 2, 2,\n",
       "       2, 2, 2, 2, 2, 2, 2, 2, 2, 2, 2, 2, 2, 2, 2, 2, 2, 2, 2, 2, 2, 2,\n",
       "       2, 2, 2, 2, 2, 2, 2, 2, 2, 2, 2, 2, 2, 2, 2, 2, 2, 2, 2, 2, 2, 2,\n",
       "       2, 2, 2, 2, 2, 2, 2, 2, 2, 2, 2, 2, 2, 2, 2, 2, 2, 2, 2, 2, 2, 2,\n",
       "       2, 2, 2, 2, 2, 2, 2, 2, 2, 2, 2, 2, 2, 2, 2, 2, 2, 2, 2, 2, 2, 2,\n",
       "       2, 2, 2, 2, 2, 2, 2, 2, 2, 2, 2, 2, 2, 2, 2, 2, 2, 2, 2, 2, 2, 2,\n",
       "       2, 2, 2, 2, 2, 2, 2, 2, 2, 2, 2, 2, 2, 2, 2, 2, 2, 2, 2, 2, 2, 2,\n",
       "       2, 2, 2, 2, 2, 2, 2, 2, 2, 2, 2, 2, 2, 2, 2, 2, 2, 2, 2, 2, 2, 2,\n",
       "       2, 2, 2, 2, 2, 2, 2, 2, 2, 2, 2, 2, 2, 2, 2, 2, 2, 2, 2, 2, 2, 2,\n",
       "       2, 2, 2, 2, 2, 2, 2, 2, 2, 2, 2, 2, 2, 2, 2, 2, 2, 2, 2, 2, 2, 2,\n",
       "       2, 2, 2, 2, 2, 2, 2, 2, 2, 2, 2, 2, 2, 2, 2, 2, 2, 2, 2, 2, 2, 2,\n",
       "       2, 2, 2, 2, 2, 2, 2, 2, 2, 2, 2, 2, 2, 2, 2, 2, 2, 2, 2, 2, 2, 2,\n",
       "       2, 2, 2, 2, 2, 2, 2, 2, 2, 2, 2, 2, 2, 2, 2, 2, 2, 2, 2, 2, 2, 2,\n",
       "       2, 2, 2, 2, 2, 2, 2, 2, 2, 2, 2, 2, 2, 2, 2, 2, 2, 2, 2, 2, 2, 2,\n",
       "       2, 2, 2, 2, 2, 2, 2, 2, 2, 2, 2, 2, 2, 2, 2, 2, 2, 2, 2, 2, 2, 2,\n",
       "       2, 2, 2, 2, 2, 2, 2, 2, 2, 2, 2, 2, 2, 2])"
      ]
     },
     "execution_count": 36,
     "metadata": {},
     "output_type": "execute_result"
    }
   ],
   "source": [
    "\"\"\"\n",
    "Thumbnail: 0\n",
    "5x: 1\n",
    "10x: 2\n",
    "\"\"\"\n",
    "np.array(all_node_type['TCGA-LN-A4MR'])"
   ]
  },
  {
   "cell_type": "code",
   "execution_count": 19,
   "metadata": {},
   "outputs": [],
   "source": [
    "tree = {}\n",
    "for p_id in patients:\n",
    "    \n",
    "    t_tree = np.array([-2]*len(all_node_type[p_id]))\n",
    "    t_tree[np.where(np.array(all_node_type[p_id])==0)] = -1\n",
    "    t_tree[np.where(np.array(all_node_type[p_id])==1)] = np.where(np.array(all_node_type[p_id])==0)[0][0]\n",
    "#     print(t_tree)\n",
    "    \n",
    "    patch_id = {}\n",
    "    i=0\n",
    "    for x in t_all_feature[p_id]:\n",
    "        patch_id[x.split('.')[0]] = i\n",
    "        i+=1\n",
    "#     print(patch_id)\n",
    "\n",
    "    for x in patch_id:\n",
    "        if len(x.split('-'))==6:\n",
    "            if x.split('-')[0]+'-'+x.split('-')[2] in patch_id:\n",
    "                t_tree[patch_id[x.split('-')[0]+'-'+x.split('-')[2]]] =  patch_id[x]           \n",
    "            if x.split('-')[1]+'-'+x.split('-')[2] in patch_id:                \n",
    "                t_tree[patch_id[x.split('-')[1]+'-'+x.split('-')[2]]] =  patch_id[x]              \n",
    "            if x.split('-')[0]+'-'+x.split('-')[3] in patch_id:            \n",
    "                t_tree[patch_id[x.split('-')[0]+'-'+x.split('-')[3]]] =  patch_id[x]            \n",
    "            if x.split('-')[1]+'-'+x.split('-')[3] in patch_id:            \n",
    "                t_tree[patch_id[x.split('-')[1]+'-'+x.split('-')[3]]] =  patch_id[x]   \n",
    "    \n",
    "\n",
    "    tree[p_id] = t_tree\n",
    "#     break"
   ]
  },
  {
   "cell_type": "code",
   "execution_count": 20,
   "metadata": {
    "scrolled": true
   },
   "outputs": [
    {
     "data": {
      "text/plain": [
       "array([ -1,   0,   0,   0,   0,   0,   0,   0,   0,   0,   0,   0,   0,\n",
       "         0,   0,   0,   0,   0,   0,   0,   0,   0,   0,   0,   0,   0,\n",
       "         0,   0,   0,   0,   0,   0,   0,   0,   0,   0,   0,   0,   0,\n",
       "         0,   0,   0,   0,   0,   0,   0,   0,   0,   0,   0,   0,   0,\n",
       "         0,   0,   0,   0,   0,   0,   0,   0,   0,   0,   0,   0,   0,\n",
       "         0,   0,   0,   0,   0,   0,   0,   0,   0,   0,   0,   0,   0,\n",
       "         0,   0,   0,   0,   0,   0,   0,   0,   0,   0,   0,   0,   0,\n",
       "         0,   0,   0,   0,   0,   0,   0,   0,   0,   0,   0,   0,   0,\n",
       "         0,   0,   0,   0,   0,   0,   0,   0,   0,   0,   0,   0,   0,\n",
       "         0,   0,   0,   0,   0,   0,   0,   0,   0,   0,   0,   0,   0,\n",
       "         0,   0,  42,  93,  93,  32,  34,   3,  80,  33, 119,   4,  85,\n",
       "       119,  26,  42,  83, 107, 120,  60, 123,  17,   4, 122,  28, 125,\n",
       "        76,  18,  52, 107, 107,  57,  56, 101,  36, 122,  87,  51,  81,\n",
       "        64,  17,  56,  98,  82,  86,  82,  89, 120,  44,  82,  18,  12,\n",
       "       100, 122, 127, 128,  40,  98,  11, 127, 115,  32,   6,   4,  44,\n",
       "       129,   6, 110,  86, 128,  33,   2, 114,  67,  49,  93,  55,  86,\n",
       "        40, 117, 120,  10,  96, 113,  18,  22,  62,   3,  36, 113,  87,\n",
       "        81,  62,  28,  67,  55, 124,  23,  33, 101,  77, 131,  61,  35,\n",
       "       108,  57,  84,  98,  76, 124,  87,  42,  86,  94,  49,   7, 113,\n",
       "       129,  44,  26,  24,  11, 124, 101,  10, 129, 115, 114, 107,  17,\n",
       "        83,   1,  17,  85,  87,  51, 108, 123, 115,  85, 131, 125,  93,\n",
       "        49,  56,  49, 125,   7,  84,  55,  36, 118,  28,  83,   5,  35,\n",
       "        76, 120,   7,  24,  92, 131,   2,  85, 108, 106, 125,   5,  76,\n",
       "       114,   1,  51,  11,  98,  10, 123, 105,  61,  67,  37,  34, 128,\n",
       "        60,  89,  56,  84,  51, 110,  62,  48,  91, 101,  10,  55, 127,\n",
       "        61,  78,   5, 118,   4, 123,  33, 117,  52, 122, 115,  36,  84,\n",
       "       105,  78, 100,  80,  22,  82,  42, 100, 128,  18,   5, 108, 119,\n",
       "        24,  83,  32, 129,  67,  90,  61,  28,  26,  89,  19,  21,  53,\n",
       "         2,  99,  71,  29,  97,  45, 111,  68, 102,  74,  73,  19,  47,\n",
       "        27,  70,  65,  59,  46,  43,  13,  74,  66,  45,  65,  74,  25,\n",
       "        72, 112,  20, 104,  16,  66,  63,  44,  91,  16, 109,  54,  72,\n",
       "        99,  47, 109,  54,  88,  81,  46,  19, 104, 109,  29, 118,  20,\n",
       "        25, 126,  59,  40, 103,  14,   9, 126,  97,  34,  78, 130,  71,\n",
       "       109,  90,  99,  95, 130,  70, 121, 116,  72,   9,  29,  15,  14,\n",
       "        39,  27,  77, 126,   6,  25,  91,  66,   9,  66, 102,  52,  45,\n",
       "       105, 130, 126, 103,  54,  97, 102,  39, 102,  21, 116,  68,   3,\n",
       "        21,  25, 100,   8,  31,  57,  64,  73,  53,  47,  73,  38, 112,\n",
       "        54,  59,  53, 118,  43,  64,  43,  64,  53,  13,  27,  39,  71,\n",
       "        65,  50, 127,  58,  13,  62,  14,  91,  72,  58,  19,  41,  29,\n",
       "        30,  20,  57,  34,  13,  73,  78, 104,  92,  14,  65,  26,  69,\n",
       "       112,  45,  27,  46,  81, 130,  21,  79,  46,  12,  37,   9,  20,\n",
       "        71, 124,  43, 112,  40,  15,  74,  47, 113,  89,  41,  37,  69,\n",
       "       104,  94,  15,   7,  58,  37, 114, 116,  48,  99,  58,   2,  15,\n",
       "         6,  59,  94,  23,  75])"
      ]
     },
     "execution_count": 20,
     "metadata": {},
     "output_type": "execute_result"
    }
   ],
   "source": [
    "tree['TCGA-LN-A4MR']"
   ]
  },
  {
   "cell_type": "code",
   "execution_count": 21,
   "metadata": {},
   "outputs": [],
   "source": [
    "x_y = {}\n",
    "for x in patients:\n",
    "    dd = []\n",
    "    for z in t_all_feature[x]:\n",
    "        if z == '-1':\n",
    "            dd.append((0,0))\n",
    "            \n",
    "    for z in t_all_feature[x]:            \n",
    "        if len(z.split('-')) == 6:\n",
    "            dd.append((float(z.split('-')[-2]),float(z.split('-')[-1].split('.')[0])))\n",
    "        \n",
    "    for z in t_all_feature[x]:            \n",
    "        if len(z.split('-')) == 2 and z != '-1':\n",
    "            dd.append((float(z.split('-')[0]),float(z.split('-')[1].split('.')[0])))\n",
    "        \n",
    "    x_y[x] = dd\n"
   ]
  },
  {
   "cell_type": "code",
   "execution_count": 22,
   "metadata": {},
   "outputs": [],
   "source": [
    "max_x_y_5x = {}\n",
    "max_x_y_10x = {}\n",
    "for p_id in patients:\n",
    "    x=[]\n",
    "    y=[]\n",
    "    for z in np.array(x_y[p_id])[np.where(np.array(all_node_type[p_id])==1)]:\n",
    "        x.append(z[0])\n",
    "        y.append(z[1])\n",
    "    max_x_y_5x[p_id] = [np.max(np.array(x)),np.max(np.array(y))]\n",
    "    \n",
    "    x=[]\n",
    "    y=[]\n",
    "    for z in np.array(x_y[p_id])[np.where(np.array(all_node_type[p_id])==2)]:\n",
    "        x.append(z[0])\n",
    "        y.append(z[1])\n",
    "    max_x_y_10x[p_id] = [np.max(np.array(x)),np.max(np.array(y))]    \n",
    "    "
   ]
  },
  {
   "cell_type": "code",
   "execution_count": 23,
   "metadata": {},
   "outputs": [],
   "source": [
    "x_y = {}\n",
    "for x in patients:\n",
    "    dd = []\n",
    "    for z in t_all_feature[x]:\n",
    "        if z == '-1':\n",
    "            dd.append((0,0))\n",
    "            \n",
    "    for z in t_all_feature[x]:            \n",
    "        if len(z.split('-')) == 6:\n",
    "            dd.append((float(z.split('-')[-2])/max_x_y_5x[x][0],float(z.split('-')[-1].split('.')[0])/max_x_y_5x[x][1]))\n",
    "        \n",
    "    for z in t_all_feature[x]:            \n",
    "        if len(z.split('-')) == 2 and z != '-1':\n",
    "            dd.append((float(z.split('-')[0])/max_x_y_10x[x][0],float(z.split('-')[1].split('.')[0])/max_x_y_10x[x][1]))\n",
    "        \n",
    "    x_y[x] = dd\n"
   ]
  },
  {
   "cell_type": "code",
   "execution_count": 37,
   "metadata": {},
   "outputs": [
    {
     "data": {
      "text/plain": [
       "[(0, 0),\n",
       " (0.9444444444444444, 0.9333333333333333),\n",
       " (0.05555555555555555, 0.2),\n",
       " (0.7777777777777778, 0.8666666666666667),\n",
       " (0.4444444444444444, 0.5333333333333333)]"
      ]
     },
     "execution_count": 37,
     "metadata": {},
     "output_type": "execute_result"
    }
   ],
   "source": [
    "#Normalize\n",
    "x_y['TCGA-LN-A4MR'][:5]"
   ]
  },
  {
   "cell_type": "code",
   "execution_count": null,
   "metadata": {},
   "outputs": [],
   "source": [
    "\n",
    "all_data = {}\n",
    "for id in patients:\n",
    "    print(id)\n",
    "    node_attr=torch.tensor(all_feature[id],dtype=torch.float)\n",
    "    edge_index_tree_8nb = torch.tensor(get_edge_index_2(id),dtype=torch.long) \n",
    "    batch = torch.tensor([0 for i in range(len(node_attr))])\n",
    "    node_type = torch.tensor(all_node_type[id])\n",
    "    node_tree = torch.tensor(tree[id])\n",
    "    x_y_index = torch.tensor(x_y[id])\n",
    "    data_id = id \n",
    "    data=Data(x=node_attr,edge_index_tree_8nb=edge_index_tree_8nb,data_id=data_id,batch =batch,node_type=node_type,node_tree=node_tree,x_y_index=x_y_index) \n",
    "    all_data[id] = data\n",
    "#     print(data)\n",
    "    "
   ]
  },
  {
   "cell_type": "code",
   "execution_count": 38,
   "metadata": {},
   "outputs": [
    {
     "data": {
      "text/plain": [
       "Data(batch=[564], data_id=\"TCGA-LN-A4MR\", edge_index_tree_8nb=[2, 5054], node_tree=[564], node_type=[564], x=[564, 1024], x_y_index=[564, 2])"
      ]
     },
     "execution_count": 38,
     "metadata": {},
     "output_type": "execute_result"
    }
   ],
   "source": [
    "all_data['TCGA-LN-A4MR']"
   ]
  },
  {
   "cell_type": "code",
   "execution_count": null,
   "metadata": {},
   "outputs": [],
   "source": [
    "# joblib.dump(all_data,'esca_5x10x_tree_8nb_gnn_data.pkl')"
   ]
  },
  {
   "cell_type": "code",
   "execution_count": null,
   "metadata": {},
   "outputs": [],
   "source": []
  },
  {
   "cell_type": "code",
   "execution_count": null,
   "metadata": {},
   "outputs": [],
   "source": []
  },
  {
   "cell_type": "code",
   "execution_count": null,
   "metadata": {},
   "outputs": [],
   "source": []
  }
 ],
 "metadata": {
  "kernelspec": {
   "display_name": "pylcx",
   "language": "python",
   "name": "pylcx"
  },
  "language_info": {
   "codemirror_mode": {
    "name": "ipython",
    "version": 3
   },
   "file_extension": ".py",
   "mimetype": "text/x-python",
   "name": "python",
   "nbconvert_exporter": "python",
   "pygments_lexer": "ipython3",
   "version": "3.8.5"
  }
 },
 "nbformat": 4,
 "nbformat_minor": 4
}
